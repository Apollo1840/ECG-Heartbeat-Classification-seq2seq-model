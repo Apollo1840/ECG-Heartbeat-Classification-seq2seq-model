{
 "cells": [
  {
   "cell_type": "code",
   "execution_count": 1,
   "metadata": {},
   "outputs": [],
   "source": [
    "import numpy as np"
   ]
  },
  {
   "cell_type": "code",
   "execution_count": 2,
   "metadata": {},
   "outputs": [],
   "source": [
    "ecg = [3,2,3,4,10,8,3,2,9]\n",
    "q = 1\n",
    "r = 4\n",
    "s = 7\n"
   ]
  },
  {
   "cell_type": "code",
   "execution_count": 3,
   "metadata": {},
   "outputs": [],
   "source": [
    "windowQ = 4\n",
    "windowS = 4\n",
    "q2 = r - windowQ + np.argmin(ecg[r-windowQ:r])\n",
    "s2 = r + np.argmin(ecg[r:r+windowS])"
   ]
  },
  {
   "cell_type": "code",
   "execution_count": 4,
   "metadata": {},
   "outputs": [
    {
     "data": {
      "text/plain": [
       "1"
      ]
     },
     "execution_count": 4,
     "metadata": {},
     "output_type": "execute_result"
    }
   ],
   "source": [
    "q2"
   ]
  },
  {
   "cell_type": "code",
   "execution_count": 5,
   "metadata": {},
   "outputs": [
    {
     "data": {
      "text/plain": [
       "7"
      ]
     },
     "execution_count": 5,
     "metadata": {},
     "output_type": "execute_result"
    }
   ],
   "source": [
    "s2"
   ]
  },
  {
   "cell_type": "code",
   "execution_count": 6,
   "metadata": {},
   "outputs": [
    {
     "data": {
      "text/plain": [
       "(array([4, 5, 8]),)"
      ]
     },
     "execution_count": 6,
     "metadata": {},
     "output_type": "execute_result"
    }
   ],
   "source": [
    "np.where(np.array(ecg)>4)"
   ]
  },
  {
   "cell_type": "code",
   "execution_count": 7,
   "metadata": {},
   "outputs": [],
   "source": [
    "fid_pks = np.zeros((100, 7))"
   ]
  },
  {
   "cell_type": "code",
   "execution_count": 8,
   "metadata": {},
   "outputs": [],
   "source": [
    "ecg = np.array(ecg)"
   ]
  },
  {
   "cell_type": "code",
   "execution_count": 9,
   "metadata": {},
   "outputs": [
    {
     "data": {
      "text/plain": [
       "311040"
      ]
     },
     "execution_count": 9,
     "metadata": {},
     "output_type": "execute_result"
    }
   ],
   "source": [
    "np.prod(ecg)"
   ]
  },
  {
   "cell_type": "code",
   "execution_count": 10,
   "metadata": {},
   "outputs": [
    {
     "data": {
      "text/plain": [
       "True"
      ]
     },
     "execution_count": 10,
     "metadata": {},
     "output_type": "execute_result"
    }
   ],
   "source": [
    "np.all(ecg)"
   ]
  },
  {
   "cell_type": "code",
   "execution_count": 11,
   "metadata": {},
   "outputs": [
    {
     "data": {
      "text/plain": [
       "False"
      ]
     },
     "execution_count": 11,
     "metadata": {},
     "output_type": "execute_result"
    }
   ],
   "source": [
    "a = np.array([0, 12, 3])\n",
    "np.all(a!=0)"
   ]
  },
  {
   "cell_type": "code",
   "execution_count": 12,
   "metadata": {},
   "outputs": [
    {
     "data": {
      "text/plain": [
       "array([False,  True,  True])"
      ]
     },
     "execution_count": 12,
     "metadata": {},
     "output_type": "execute_result"
    }
   ],
   "source": [
    "a!=0"
   ]
  },
  {
   "cell_type": "code",
   "execution_count": 13,
   "metadata": {},
   "outputs": [],
   "source": [
    "x = np.array([[1,2],[3,4]])"
   ]
  },
  {
   "cell_type": "code",
   "execution_count": 14,
   "metadata": {},
   "outputs": [
    {
     "name": "stdout",
     "output_type": "stream",
     "text": [
      "[1 2]\n",
      "<class 'numpy.ndarray'>\n",
      "[3 4]\n",
      "<class 'numpy.ndarray'>\n"
     ]
    }
   ],
   "source": [
    "for i in x:\n",
    "    print(i)\n",
    "    print(type(i))"
   ]
  },
  {
   "cell_type": "code",
   "execution_count": 15,
   "metadata": {},
   "outputs": [
    {
     "data": {
      "text/plain": [
       "array([ 0, 12,  3])"
      ]
     },
     "execution_count": 15,
     "metadata": {},
     "output_type": "execute_result"
    }
   ],
   "source": [
    "a"
   ]
  },
  {
   "cell_type": "code",
   "execution_count": 16,
   "metadata": {},
   "outputs": [
    {
     "data": {
      "text/plain": [
       "array([ 3,  2,  3,  4, 10,  8,  3,  2,  9])"
      ]
     },
     "execution_count": 16,
     "metadata": {},
     "output_type": "execute_result"
    }
   ],
   "source": [
    "ecg"
   ]
  },
  {
   "cell_type": "code",
   "execution_count": 17,
   "metadata": {},
   "outputs": [
    {
     "data": {
      "text/plain": [
       "array([ 2,  4, 10,  8,  2,  9])"
      ]
     },
     "execution_count": 17,
     "metadata": {},
     "output_type": "execute_result"
    }
   ],
   "source": [
    "ecg[ecg!=3]"
   ]
  },
  {
   "cell_type": "code",
   "execution_count": 18,
   "metadata": {},
   "outputs": [
    {
     "data": {
      "text/plain": [
       "array([ 3,  2,  3,  4, 10,  8,  3,  2,  9])"
      ]
     },
     "execution_count": 18,
     "metadata": {},
     "output_type": "execute_result"
    }
   ],
   "source": [
    "ecg"
   ]
  },
  {
   "cell_type": "code",
   "execution_count": 19,
   "metadata": {},
   "outputs": [
    {
     "data": {
      "text/plain": [
       "array([ 3,  2,  3,  4, 10])"
      ]
     },
     "execution_count": 19,
     "metadata": {},
     "output_type": "execute_result"
    }
   ],
   "source": [
    "np.resize(ecg, 5)"
   ]
  },
  {
   "cell_type": "code",
   "execution_count": 22,
   "metadata": {},
   "outputs": [],
   "source": [
    "from scipy import signal\n",
    "downsampled =  signal.resample(ecg, 6)"
   ]
  },
  {
   "cell_type": "code",
   "execution_count": 23,
   "metadata": {},
   "outputs": [
    {
     "data": {
      "text/plain": [
       "array([ 3.86238431,  2.32249944,  4.36565104, 10.58226761,  1.77196464,\n",
       "        6.42856628])"
      ]
     },
     "execution_count": 23,
     "metadata": {},
     "output_type": "execute_result"
    }
   ],
   "source": [
    "downsampled"
   ]
  },
  {
   "cell_type": "code",
   "execution_count": 24,
   "metadata": {},
   "outputs": [],
   "source": [
    "import matplotlib.pyplot as plt\n"
   ]
  },
  {
   "cell_type": "code",
   "execution_count": 25,
   "metadata": {},
   "outputs": [
    {
     "data": {
      "text/plain": [
       "[<matplotlib.lines.Line2D at 0x7ff334d5a7b8>]"
      ]
     },
     "execution_count": 25,
     "metadata": {},
     "output_type": "execute_result"
    },
    {
     "data": {
      "image/png": "[encoded data removed]",
      "text/plain": [
       "<Figure size 432x288 with 1 Axes>"
      ]
     },
     "metadata": {
      "needs_background": "light"
     },
     "output_type": "display_data"
    }
   ],
   "source": [
    "plt.plot(ecg)"
   ]
  },
  {
   "cell_type": "code",
   "execution_count": 26,
   "metadata": {},
   "outputs": [
    {
     "data": {
      "text/plain": [
       "[<matplotlib.lines.Line2D at 0x7ff3348b4fd0>]"
      ]
     },
     "execution_count": 26,
     "metadata": {},
     "output_type": "execute_result"
    },
    {
     "data": {
      "image/png": "[encoded data removed]",
      "text/plain": [
       "<Figure size 432x288 with 1 Axes>"
      ]
     },
     "metadata": {
      "needs_background": "light"
     },
     "output_type": "display_data"
    }
   ],
   "source": [
    "plt.plot(downsampled)"
   ]
  },
  {
   "cell_type": "code",
   "execution_count": 27,
   "metadata": {},
   "outputs": [
    {
     "data": {
      "text/plain": [
       "array([[ 3.86238431,  2.32249944,  4.36565104, 10.58226761,  1.77196464,\n",
       "         6.42856628]])"
      ]
     },
     "execution_count": 27,
     "metadata": {},
     "output_type": "execute_result"
    }
   ],
   "source": [
    "np.reshape(downsampled, [1, len(downsampled)])"
   ]
  },
  {
   "cell_type": "code",
   "execution_count": 28,
   "metadata": {},
   "outputs": [
    {
     "data": {
      "text/plain": [
       "array([1, 2, 3])"
      ]
     },
     "execution_count": 28,
     "metadata": {},
     "output_type": "execute_result"
    }
   ],
   "source": [
    "np.unique([1,2,1,2,3])"
   ]
  },
  {
   "cell_type": "code",
   "execution_count": null,
   "metadata": {},
   "outputs": [],
   "source": []
  },
  {
   "cell_type": "code",
   "execution_count": 40,
   "metadata": {},
   "outputs": [],
   "source": [
    "DATA_DIR = '../data/s2s_mitbih_aami_DS1DS2'"
   ]
  },
  {
   "cell_type": "code",
   "execution_count": 41,
   "metadata": {},
   "outputs": [],
   "source": [
    "import scipy.io as spio"
   ]
  },
  {
   "cell_type": "code",
   "execution_count": 42,
   "metadata": {},
   "outputs": [],
   "source": [
    "filename = DATA_DIR\n",
    "trainset = 1"
   ]
  },
  {
   "cell_type": "code",
   "execution_count": 43,
   "metadata": {},
   "outputs": [],
   "source": [
    "samples = spio.loadmat(filename + \".mat\")\n",
    "if trainset == 1:  # DS1\n",
    "    samples = samples['s2s_mitbih_DS1']\n",
    "\n",
    "else:  # DS2\n",
    "    samples = samples['s2s_mitbih_DS2']\n",
    "\n",
    "values = samples[0]['seg_values']  \n",
    "labels = samples[0]['seg_labels']  "
   ]
  },
  {
   "cell_type": "code",
   "execution_count": 44,
   "metadata": {},
   "outputs": [
    {
     "data": {
      "text/plain": [
       "(22,)"
      ]
     },
     "execution_count": 44,
     "metadata": {},
     "output_type": "execute_result"
    }
   ],
   "source": [
    "values.shape"
   ]
  },
  {
   "cell_type": "code",
   "execution_count": 45,
   "metadata": {},
   "outputs": [
    {
     "data": {
      "text/plain": [
       "(1862, 1)"
      ]
     },
     "execution_count": 45,
     "metadata": {},
     "output_type": "execute_result"
    }
   ],
   "source": [
    "record = values[0]\n",
    "record.shape"
   ]
  },
  {
   "cell_type": "code",
   "execution_count": 46,
   "metadata": {},
   "outputs": [
    {
     "name": "stdout",
     "output_type": "stream",
     "text": [
      "(1,)\n",
      "(280, 1)\n",
      "[array([[-2.32726342e-01],\n",
      "       [-2.32726342e-01],\n",
      "       [-2.32726342e-01],\n",
      "       [-2.32726342e-01],\n",
      "       [-2.32726342e-01],\n",
      "       [-2.35071526e-01],\n",
      "       [-1.85962552e-01],\n",
      "       [-1.35538272e-01],\n",
      "       [-1.44256295e-01],\n",
      "       [-1.71121244e-01],\n",
      "       [-1.56534679e-01],\n",
      "       [-1.05838231e-01],\n",
      "       [-6.45806885e-02],\n",
      "       [-1.06089834e-01],\n",
      "       [-1.37162871e-01],\n",
      "       [-9.39561405e-02],\n",
      "       [-3.07883063e-02],\n",
      "       [-2.33792078e-02],\n",
      "       [-3.43231925e-02],\n",
      "       [-3.38102563e-02],\n",
      "       [-1.10199124e-02],\n",
      "       [ 1.22978705e-01],\n",
      "       [ 2.61217941e-01],\n",
      "       [ 3.40129549e-01],\n",
      "       [ 4.62766789e-01],\n",
      "       [ 4.79256948e-01],\n",
      "       [ 3.80539289e-01],\n",
      "       [ 3.14064517e-01],\n",
      "       [ 2.84410434e-01],\n",
      "       [ 2.93444005e-01],\n",
      "       [ 2.92010144e-01],\n",
      "       [ 2.84163659e-01],\n",
      "       [ 2.08562311e-01],\n",
      "       [ 1.25257917e-01],\n",
      "       [ 1.30361379e-01],\n",
      "       [ 9.20701841e-02],\n",
      "       [ 6.18368624e-02],\n",
      "       [-4.35588489e-02],\n",
      "       [-1.41501992e-01],\n",
      "       [-1.64460129e-01],\n",
      "       [-1.35340552e-01],\n",
      "       [-1.23795913e-01],\n",
      "       [-2.20963418e-01],\n",
      "       [-2.31472881e-01],\n",
      "       [-1.51219631e-01],\n",
      "       [-1.09133387e-01],\n",
      "       [-2.06449673e-01],\n",
      "       [-2.45362032e-01],\n",
      "       [-2.54072346e-01],\n",
      "       [-2.66431642e-01],\n",
      "       [-2.47262440e-01],\n",
      "       [-3.05365188e-01],\n",
      "       [-2.94666771e-01],\n",
      "       [-2.06776599e-01],\n",
      "       [-1.50159689e-01],\n",
      "       [-1.87484329e-01],\n",
      "       [-3.49060010e-01],\n",
      "       [-4.49251525e-01],\n",
      "       [-4.40896402e-01],\n",
      "       [-2.44489265e-01],\n",
      "       [ 4.83711313e-01],\n",
      "       [ 1.59049252e+00],\n",
      "       [ 2.95734971e+00],\n",
      "       [ 4.52589030e+00],\n",
      "       [ 5.29818808e+00],\n",
      "       [ 4.54574506e+00],\n",
      "       [ 2.94836300e+00],\n",
      "       [ 1.61789896e+00],\n",
      "       [ 7.23300069e-01],\n",
      "       [ 3.82133183e-01],\n",
      "       [ 1.35954937e-01],\n",
      "       [-1.04190670e-02],\n",
      "       [-2.12099232e-03],\n",
      "       [-1.84437155e-02],\n",
      "       [-9.86662942e-02],\n",
      "       [-2.54641683e-01],\n",
      "       [-2.97278469e-01],\n",
      "       [-3.86631445e-01],\n",
      "       [-4.56711636e-01],\n",
      "       [-5.45655717e-01],\n",
      "       [-5.64453122e-01],\n",
      "       [-4.68276445e-01],\n",
      "       [-4.70014491e-01],\n",
      "       [-4.95993730e-01],\n",
      "       [-5.89665262e-01],\n",
      "       [-5.30928625e-01],\n",
      "       [-5.10470318e-01],\n",
      "       [-5.04096163e-01],\n",
      "       [-5.29963274e-01],\n",
      "       [-5.83998523e-01],\n",
      "       [-5.50674872e-01],\n",
      "       [-5.07242539e-01],\n",
      "       [-5.49750749e-01],\n",
      "       [-5.46575196e-01],\n",
      "       [-5.06995765e-01],\n",
      "       [-5.12391008e-01],\n",
      "       [-5.10266745e-01],\n",
      "       [-5.25010312e-01],\n",
      "       [-5.59620452e-01],\n",
      "       [-5.01067962e-01],\n",
      "       [-4.61145374e-01],\n",
      "       [-4.27554903e-01],\n",
      "       [-5.02787560e-01],\n",
      "       [-5.22174619e-01],\n",
      "       [-4.66565857e-01],\n",
      "       [-4.26218207e-01],\n",
      "       [-4.58733347e-01],\n",
      "       [-5.11287633e-01],\n",
      "       [-4.83654999e-01],\n",
      "       [-4.02155684e-01],\n",
      "       [-3.83545937e-01],\n",
      "       [-4.38742019e-01],\n",
      "       [-5.11190933e-01],\n",
      "       [-4.63989794e-01],\n",
      "       [-3.52136023e-01],\n",
      "       [-3.62591484e-01],\n",
      "       [-3.38650330e-01],\n",
      "       [-2.75121609e-01],\n",
      "       [-2.49897742e-01],\n",
      "       [-2.41877567e-01],\n",
      "       [-2.28945743e-01],\n",
      "       [-2.55795050e-01],\n",
      "       [-1.66097195e-01],\n",
      "       [-1.23022273e-01],\n",
      "       [-9.68067521e-02],\n",
      "       [-1.00311195e-01],\n",
      "       [-6.73873480e-02],\n",
      "       [ 2.42532662e-02],\n",
      "       [ 7.02113608e-02],\n",
      "       [ 7.61120922e-02],\n",
      "       [ 1.26442614e-01],\n",
      "       [ 2.13707747e-01],\n",
      "       [ 2.79330990e-01],\n",
      "       [ 3.12666128e-01],\n",
      "       [ 3.88282440e-01],\n",
      "       [ 4.20389855e-01],\n",
      "       [ 4.54870001e-01],\n",
      "       [ 5.04900197e-01],\n",
      "       [ 5.66718599e-01],\n",
      "       [ 6.06451310e-01],\n",
      "       [ 5.78031100e-01],\n",
      "       [ 6.32242233e-01],\n",
      "       [ 7.24206171e-01],\n",
      "       [ 6.89552663e-01],\n",
      "       [ 6.27109181e-01],\n",
      "       [ 6.27369911e-01],\n",
      "       [ 6.61399792e-01],\n",
      "       [ 6.58520754e-01],\n",
      "       [ 5.38151831e-01],\n",
      "       [ 4.56310837e-01],\n",
      "       [ 4.40269170e-01],\n",
      "       [ 4.30340661e-01],\n",
      "       [ 3.46493686e-01],\n",
      "       [ 2.37379305e-01],\n",
      "       [ 1.80580014e-01],\n",
      "       [ 1.41148561e-01],\n",
      "       [ 1.18065138e-01],\n",
      "       [ 7.44257990e-02],\n",
      "       [ 2.41148103e-02],\n",
      "       [-2.69162238e-02],\n",
      "       [-2.88905076e-02],\n",
      "       [-8.20087441e-02],\n",
      "       [-1.42800664e-01],\n",
      "       [-2.05489329e-01],\n",
      "       [-1.65665339e-01],\n",
      "       [-1.44129426e-01],\n",
      "       [-1.01173647e-01],\n",
      "       [-1.76029873e-01],\n",
      "       [-2.69269550e-01],\n",
      "       [-2.92124193e-01],\n",
      "       [-2.60310714e-01],\n",
      "       [-2.19914626e-01],\n",
      "       [-1.97847436e-01],\n",
      "       [-2.68672353e-01],\n",
      "       [-2.27132784e-01],\n",
      "       [-2.29415449e-01],\n",
      "       [-2.41217525e-01],\n",
      "       [-2.53261374e-01],\n",
      "       [-2.52262666e-01],\n",
      "       [-2.11843951e-01],\n",
      "       [-1.92170831e-01],\n",
      "       [-2.48334836e-01],\n",
      "       [-2.84158285e-01],\n",
      "       [-2.35738690e-01],\n",
      "       [-1.85628581e-01],\n",
      "       [-1.42406832e-01],\n",
      "       [-1.48624657e-01],\n",
      "       [-1.47551683e-01],\n",
      "       [-1.40268118e-01],\n",
      "       [-1.21739458e-01],\n",
      "       [-1.90169338e-01],\n",
      "       [-2.51871939e-01],\n",
      "       [-1.82733917e-01],\n",
      "       [-1.16892413e-01],\n",
      "       [-7.69939903e-02],\n",
      "       [-6.62974268e-02],\n",
      "       [-1.37944324e-01],\n",
      "       [-1.61157794e-01],\n",
      "       [-1.04081004e-01],\n",
      "       [-2.88288140e-02],\n",
      "       [-9.68477689e-02],\n",
      "       [-1.50948156e-01],\n",
      "       [-1.55321370e-01],\n",
      "       [-1.00557970e-01],\n",
      "       [-9.54926404e-02],\n",
      "       [-1.38612551e-01],\n",
      "       [-1.06583383e-01],\n",
      "       [-1.05082215e-01],\n",
      "       [-1.06490745e-01],\n",
      "       [-1.30376569e-01],\n",
      "       [-1.68256473e-01],\n",
      "       [-1.27294145e-01],\n",
      "       [-1.15319082e-01],\n",
      "       [-1.28237856e-01],\n",
      "       [-2.18321170e-01],\n",
      "       [-1.83639214e-01],\n",
      "       [-1.05246687e-01],\n",
      "       [-9.04196456e-02],\n",
      "       [-1.37119657e-01],\n",
      "       [-1.62743769e-01],\n",
      "       [-1.81479480e-01],\n",
      "       [-1.76331626e-01],\n",
      "       [-1.32409072e-01],\n",
      "       [-1.68030263e-01],\n",
      "       [-2.19482771e-01],\n",
      "       [-2.19767178e-01],\n",
      "       [-1.52895126e-01],\n",
      "       [-1.67413326e-01],\n",
      "       [-1.49196777e-01],\n",
      "       [-1.46904736e-01],\n",
      "       [-1.55938307e-01],\n",
      "       [-1.18058403e-01],\n",
      "       [-1.23129421e-01],\n",
      "       [-1.77721061e-01],\n",
      "       [-1.93571436e-01],\n",
      "       [-1.47235222e-01],\n",
      "       [-1.55860913e-01],\n",
      "       [-2.11154127e-01],\n",
      "       [-2.34844491e-01],\n",
      "       [-1.82931615e-01],\n",
      "       [-1.68648867e-01],\n",
      "       [-1.13287427e-01],\n",
      "       [-2.37242006e-01],\n",
      "       [-2.33474375e-01],\n",
      "       [-1.42386267e-01],\n",
      "       [-8.26873743e-02],\n",
      "       [-1.06612048e-01],\n",
      "       [-1.32257929e-01],\n",
      "       [-2.24870683e-01],\n",
      "       [-1.23696558e-01],\n",
      "       [-1.37988993e-01],\n",
      "       [-1.36998355e-01],\n",
      "       [-1.39054810e-01],\n",
      "       [-1.20177724e-01],\n",
      "       [-9.62143500e-02],\n",
      "       [-1.16598320e-01],\n",
      "       [-1.15319082e-01],\n",
      "       [-6.76941225e-02],\n",
      "       [ 8.45471784e-03],\n",
      "       [ 1.09224640e-02],\n",
      "       [-3.19907169e-02],\n",
      "       [-4.35179831e-02],\n",
      "       [-8.73724719e-03],\n",
      "       [ 7.49517862e-02],\n",
      "       [ 2.18478984e-01],\n",
      "       [ 2.60761200e-01],\n",
      "       [ 2.91196736e-01],\n",
      "       [ 4.73517750e-01],\n",
      "       [ 5.55308083e-01],\n",
      "       [ 5.08502351e-01],\n",
      "       [ 3.47812307e-01],\n",
      "       [ 2.68354579e-01],\n",
      "       [ 2.65820080e-01],\n",
      "       [ 2.99175782e-01],\n",
      "       [ 2.79190947e-01],\n",
      "       [ 2.12751049e-01],\n",
      "       [ 1.18989182e-01],\n",
      "       [ 1.27975079e-01],\n",
      "       [ 1.54694021e-01],\n",
      "       [ 1.24192014e-01]])]\n"
     ]
    }
   ],
   "source": [
    "beat = record[0]\n",
    "print(beat.shape)\n",
    "print(beat[0].shape)\n",
    "print(beat)"
   ]
  },
  {
   "cell_type": "code",
   "execution_count": null,
   "metadata": {},
   "outputs": [],
   "source": [
    "beat = range(280)\n",
    "beat = np.reshape(beat, (1, len(beat), 1))\n",
    "print(beat.shape)\n",
    "print(beat[0].shape)\n",
    "print(beat)"
   ]
  },
  {
   "cell_type": "code",
   "execution_count": null,
   "metadata": {},
   "outputs": [],
   "source": [
    "labels.shape"
   ]
  },
  {
   "cell_type": "code",
   "execution_count": null,
   "metadata": {},
   "outputs": [],
   "source": [
    "siglabels = labels[0]\n",
    "print(siglabels)"
   ]
  },
  {
   "cell_type": "code",
   "execution_count": null,
   "metadata": {},
   "outputs": [],
   "source": [
    "len(siglabels[0])"
   ]
  },
  {
   "cell_type": "code",
   "execution_count": null,
   "metadata": {},
   "outputs": [],
   "source": []
  },
  {
   "cell_type": "code",
   "execution_count": 56,
   "metadata": {},
   "outputs": [
    {
     "data": {
      "text/plain": [
       "array([[1, 2],\n",
       "       [3, 4],\n",
       "       [5, 6]])"
      ]
     },
     "execution_count": 56,
     "metadata": {},
     "output_type": "execute_result"
    }
   ],
   "source": [
    "np.reshape([1,2,3,4,5,6],(3,2))"
   ]
  },
  {
   "cell_type": "code",
   "execution_count": 57,
   "metadata": {},
   "outputs": [
    {
     "data": {
      "text/plain": [
       "(5,)"
      ]
     },
     "execution_count": 57,
     "metadata": {},
     "output_type": "execute_result"
    }
   ],
   "source": [
    "np.shape([1,3,3,4,5])"
   ]
  },
  {
   "cell_type": "code",
   "execution_count": null,
   "metadata": {},
   "outputs": [],
   "source": []
  }
 ],
 "metadata": {
  "kernelspec": {
   "display_name": "congyuml",
   "language": "python",
   "name": "congyuml"
  },
  "language_info": {
   "codemirror_mode": {
    "name": "ipython",
    "version": 3
   },
   "file_extension": ".py",
   "mimetype": "text/x-python",
   "name": "python",
   "nbconvert_exporter": "python",
   "pygments_lexer": "ipython3",
   "version": "3.6.8"
  }
 },
 "nbformat": 4,
 "nbformat_minor": 2
}
