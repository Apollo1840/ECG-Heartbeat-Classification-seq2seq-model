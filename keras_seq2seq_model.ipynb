{
 "cells": [
  {
   "cell_type": "code",
   "execution_count": 1,
   "metadata": {},
   "outputs": [
    {
     "name": "stderr",
     "output_type": "stream",
     "text": [
      "Using TensorFlow backend.\n",
      "/home/congyu/.virtualenvs/congyuml/lib/python3.6/site-packages/tensorflow/python/framework/dtypes.py:516: FutureWarning: Passing (type, 1) or '1type' as a synonym of type is deprecated; in a future version of numpy, it will be understood as (type, (1,)) / '(1,)type'.\n",
      "  _np_qint8 = np.dtype([(\"qint8\", np.int8, 1)])\n",
      "/home/congyu/.virtualenvs/congyuml/lib/python3.6/site-packages/tensorflow/python/framework/dtypes.py:517: FutureWarning: Passing (type, 1) or '1type' as a synonym of type is deprecated; in a future version of numpy, it will be understood as (type, (1,)) / '(1,)type'.\n",
      "  _np_quint8 = np.dtype([(\"quint8\", np.uint8, 1)])\n",
      "/home/congyu/.virtualenvs/congyuml/lib/python3.6/site-packages/tensorflow/python/framework/dtypes.py:518: FutureWarning: Passing (type, 1) or '1type' as a synonym of type is deprecated; in a future version of numpy, it will be understood as (type, (1,)) / '(1,)type'.\n",
      "  _np_qint16 = np.dtype([(\"qint16\", np.int16, 1)])\n",
      "/home/congyu/.virtualenvs/congyuml/lib/python3.6/site-packages/tensorflow/python/framework/dtypes.py:519: FutureWarning: Passing (type, 1) or '1type' as a synonym of type is deprecated; in a future version of numpy, it will be understood as (type, (1,)) / '(1,)type'.\n",
      "  _np_quint16 = np.dtype([(\"quint16\", np.uint16, 1)])\n",
      "/home/congyu/.virtualenvs/congyuml/lib/python3.6/site-packages/tensorflow/python/framework/dtypes.py:520: FutureWarning: Passing (type, 1) or '1type' as a synonym of type is deprecated; in a future version of numpy, it will be understood as (type, (1,)) / '(1,)type'.\n",
      "  _np_qint32 = np.dtype([(\"qint32\", np.int32, 1)])\n",
      "/home/congyu/.virtualenvs/congyuml/lib/python3.6/site-packages/tensorflow/python/framework/dtypes.py:525: FutureWarning: Passing (type, 1) or '1type' as a synonym of type is deprecated; in a future version of numpy, it will be understood as (type, (1,)) / '(1,)type'.\n",
      "  np_resource = np.dtype([(\"resource\", np.ubyte, 1)])\n",
      "/home/congyu/.virtualenvs/congyuml/lib/python3.6/site-packages/tensorboard/compat/tensorflow_stub/dtypes.py:541: FutureWarning: Passing (type, 1) or '1type' as a synonym of type is deprecated; in a future version of numpy, it will be understood as (type, (1,)) / '(1,)type'.\n",
      "  _np_qint8 = np.dtype([(\"qint8\", np.int8, 1)])\n",
      "/home/congyu/.virtualenvs/congyuml/lib/python3.6/site-packages/tensorboard/compat/tensorflow_stub/dtypes.py:542: FutureWarning: Passing (type, 1) or '1type' as a synonym of type is deprecated; in a future version of numpy, it will be understood as (type, (1,)) / '(1,)type'.\n",
      "  _np_quint8 = np.dtype([(\"quint8\", np.uint8, 1)])\n",
      "/home/congyu/.virtualenvs/congyuml/lib/python3.6/site-packages/tensorboard/compat/tensorflow_stub/dtypes.py:543: FutureWarning: Passing (type, 1) or '1type' as a synonym of type is deprecated; in a future version of numpy, it will be understood as (type, (1,)) / '(1,)type'.\n",
      "  _np_qint16 = np.dtype([(\"qint16\", np.int16, 1)])\n",
      "/home/congyu/.virtualenvs/congyuml/lib/python3.6/site-packages/tensorboard/compat/tensorflow_stub/dtypes.py:544: FutureWarning: Passing (type, 1) or '1type' as a synonym of type is deprecated; in a future version of numpy, it will be understood as (type, (1,)) / '(1,)type'.\n",
      "  _np_quint16 = np.dtype([(\"quint16\", np.uint16, 1)])\n",
      "/home/congyu/.virtualenvs/congyuml/lib/python3.6/site-packages/tensorboard/compat/tensorflow_stub/dtypes.py:545: FutureWarning: Passing (type, 1) or '1type' as a synonym of type is deprecated; in a future version of numpy, it will be understood as (type, (1,)) / '(1,)type'.\n",
      "  _np_qint32 = np.dtype([(\"qint32\", np.int32, 1)])\n",
      "/home/congyu/.virtualenvs/congyuml/lib/python3.6/site-packages/tensorboard/compat/tensorflow_stub/dtypes.py:550: FutureWarning: Passing (type, 1) or '1type' as a synonym of type is deprecated; in a future version of numpy, it will be understood as (type, (1,)) / '(1,)type'.\n",
      "  np_resource = np.dtype([(\"resource\", np.ubyte, 1)])\n"
     ]
    }
   ],
   "source": [
    "from model_keras import S2sModel"
   ]
  },
  {
   "cell_type": "code",
   "execution_count": 2,
   "metadata": {},
   "outputs": [],
   "source": [
    "from keras.models import Model\n",
    "from keras.layers import Input, LSTM, Dense\n",
    "import numpy as np\n"
   ]
  },
  {
   "cell_type": "code",
   "execution_count": 3,
   "metadata": {},
   "outputs": [],
   "source": [
    "batch_size = 64  # Batch size for training.\n",
    "epochs = 100  # Number of epochs to train for.\n",
    "latent_dim = 256  # Latent dimensionality of the encoding space.\n",
    "num_samples = 10000  # Number of samples to train on.\n",
    "# Path to the data txt file on disk.\n",
    "data_path = '/home/congyu/dataset/TEXT/fra-eng/fra.txt'"
   ]
  },
  {
   "cell_type": "code",
   "execution_count": 4,
   "metadata": {},
   "outputs": [
    {
     "name": "stdout",
     "output_type": "stream",
     "text": [
      "Number of samples: 10000\n",
      "Number of unique input tokens: 71\n",
      "Number of unique output tokens: 93\n",
      "Max sequence length for inputs: 16\n",
      "Max sequence length for outputs: 59\n"
     ]
    }
   ],
   "source": [
    "# Vectorize the data.\n",
    "input_texts = []\n",
    "target_texts = []\n",
    "input_characters = set()\n",
    "target_characters = set()\n",
    "with open(data_path, 'r', encoding='utf-8') as f:\n",
    "    lines = f.read().split('\\n')\n",
    "    \n",
    "for line in lines[: min(num_samples, len(lines) - 1)]:\n",
    "    input_text, target_text, _ = line.split('\\t')\n",
    "    # We use \"tab\" as the \"start sequence\" character\n",
    "    # for the targets, and \"\\n\" as \"end sequence\" character.\n",
    "    target_text = '\\t' + target_text + '\\n'\n",
    "    \n",
    "    input_texts.append(input_text)\n",
    "    target_texts.append(target_text)\n",
    "    \n",
    "    # get chars for char index dictionary\n",
    "    for char in input_text:\n",
    "        if char not in input_characters:\n",
    "            input_characters.add(char)\n",
    "    for char in target_text:\n",
    "        if char not in target_characters:\n",
    "            target_characters.add(char)\n",
    "\n",
    "input_characters = sorted(list(input_characters))\n",
    "target_characters = sorted(list(target_characters))\n",
    "num_encoder_tokens = len(input_characters)\n",
    "num_decoder_tokens = len(target_characters)\n",
    "max_encoder_seq_length = max([len(txt) for txt in input_texts])\n",
    "max_decoder_seq_length = max([len(txt) for txt in target_texts])\n",
    "\n",
    "print('Number of samples:', len(input_texts))\n",
    "print('Number of unique input tokens:', num_encoder_tokens)\n",
    "print('Number of unique output tokens:', num_decoder_tokens)\n",
    "print('Max sequence length for inputs:', max_encoder_seq_length)\n",
    "print('Max sequence length for outputs:', max_decoder_seq_length)\n",
    "\n",
    "input_token_index = dict(\n",
    "    [(char, i) for i, char in enumerate(input_characters)])\n",
    "target_token_index = dict(\n",
    "    [(char, i) for i, char in enumerate(target_characters)])"
   ]
  },
  {
   "cell_type": "code",
   "execution_count": 5,
   "metadata": {},
   "outputs": [],
   "source": [
    "# modify token_index of target\n",
    "first_target = target_characters[0]\n",
    "target_token_index[\"\\t\"], target_token_index[first_target] = target_token_index[first_target], target_token_index[\"\\t\"]\n",
    "\n",
    "last_target = target_characters[-1]\n",
    "target_token_index[\"\\n\"], target_token_index[last_target] = target_token_index[last_target], target_token_index[\"\\n\"]\n"
   ]
  },
  {
   "cell_type": "code",
   "execution_count": 6,
   "metadata": {},
   "outputs": [],
   "source": [
    "encoder_input_data = np.zeros(\n",
    "    (len(input_texts), max_encoder_seq_length, num_encoder_tokens),\n",
    "    dtype='float32')\n",
    "decoder_input_data = np.zeros(\n",
    "    (len(input_texts), max_decoder_seq_length, num_decoder_tokens),\n",
    "    dtype='float32')\n",
    "decoder_target_data = np.zeros(\n",
    "    (len(input_texts), max_decoder_seq_length, num_decoder_tokens),\n",
    "    dtype='float32')\n",
    "\n",
    "# IMPORTANT !\n",
    "for i, (input_text, target_text) in enumerate(zip(input_texts, target_texts)):\n",
    "    for t, char in enumerate(input_text):\n",
    "        encoder_input_data[i, t, input_token_index[char]] = 1.\n",
    "    \n",
    "    # padding the input sequence\n",
    "    encoder_input_data[i, t + 1:, input_token_index[' ']] = 1.\n",
    "    \n",
    "    for t, char in enumerate(target_text):\n",
    "        # decoder_target_data is ahead of decoder_input_data by one timestep\n",
    "        decoder_input_data[i, t, target_token_index[char]] = 1.\n",
    "        if t > 0:\n",
    "            # decoder_target_data will be ahead by one timestep\n",
    "            # and will not include the start character.\n",
    "            decoder_target_data[i, t - 1, target_token_index[char]] = 1.\n",
    "            \n",
    "    decoder_input_data[i, t + 1:, target_token_index[' ']] = 1.\n",
    "    decoder_target_data[i, t:, target_token_index[' ']] = 1."
   ]
  },
  {
   "cell_type": "code",
   "execution_count": 7,
   "metadata": {},
   "outputs": [],
   "source": [
    "model = S2sModel(**locals())"
   ]
  },
  {
   "cell_type": "code",
   "execution_count": 8,
   "metadata": {},
   "outputs": [
    {
     "data": {
      "text/plain": [
       "(10000, 16, 71)"
      ]
     },
     "execution_count": 8,
     "metadata": {},
     "output_type": "execute_result"
    }
   ],
   "source": [
    "encoder_input_data.shape"
   ]
  },
  {
   "cell_type": "code",
   "execution_count": 9,
   "metadata": {},
   "outputs": [
    {
     "name": "stdout",
     "output_type": "stream",
     "text": [
      "WARNING:tensorflow:From /home/congyu/.virtualenvs/congyuml/lib/python3.6/site-packages/tensorflow/python/ops/math_grad.py:1250: add_dispatch_support.<locals>.wrapper (from tensorflow.python.ops.array_ops) is deprecated and will be removed in a future version.\n",
      "Instructions for updating:\n",
      "Use tf.where in 2.0, which has the same broadcast rule as np.where\n",
      "WARNING:tensorflow:From /home/congyu/.virtualenvs/congyuml/lib/python3.6/site-packages/keras/backend/tensorflow_backend.py:422: The name tf.global_variables is deprecated. Please use tf.compat.v1.global_variables instead.\n",
      "\n",
      "Train on 8000 samples, validate on 2000 samples\n",
      "Epoch 1/12\n",
      "8000/8000 [==============================] - 21s 3ms/step - loss: 0.9845 - accuracy: 0.7488 - val_loss: 0.8398 - val_accuracy: 0.7674\n",
      "Epoch 2/12\n",
      "8000/8000 [==============================] - 12s 2ms/step - loss: 0.6349 - accuracy: 0.8203 - val_loss: 0.6530 - val_accuracy: 0.8104\n",
      "Epoch 3/12\n",
      "8000/8000 [==============================] - 13s 2ms/step - loss: 0.5232 - accuracy: 0.8485 - val_loss: 0.5810 - val_accuracy: 0.8308\n",
      "Epoch 4/12\n",
      "8000/8000 [==============================] - 13s 2ms/step - loss: 0.4671 - accuracy: 0.8629 - val_loss: 0.5377 - val_accuracy: 0.8424\n",
      "Epoch 5/12\n",
      "8000/8000 [==============================] - 13s 2ms/step - loss: 0.4254 - accuracy: 0.8747 - val_loss: 0.5099 - val_accuracy: 0.8508\n",
      "Epoch 6/12\n",
      "8000/8000 [==============================] - 12s 2ms/step - loss: 0.3899 - accuracy: 0.8846 - val_loss: 0.4898 - val_accuracy: 0.8567\n",
      "Epoch 7/12\n",
      "8000/8000 [==============================] - 13s 2ms/step - loss: 0.3591 - accuracy: 0.8928 - val_loss: 0.4768 - val_accuracy: 0.8610\n",
      "Epoch 8/12\n",
      "8000/8000 [==============================] - 12s 2ms/step - loss: 0.3314 - accuracy: 0.9010 - val_loss: 0.4681 - val_accuracy: 0.8635\n",
      "Epoch 9/12\n",
      "8000/8000 [==============================] - 13s 2ms/step - loss: 0.3061 - accuracy: 0.9086 - val_loss: 0.4649 - val_accuracy: 0.8649\n",
      "Epoch 10/12\n",
      "8000/8000 [==============================] - 13s 2ms/step - loss: 0.2833 - accuracy: 0.9152 - val_loss: 0.4606 - val_accuracy: 0.8665\n",
      "Epoch 11/12\n",
      "8000/8000 [==============================] - 13s 2ms/step - loss: 0.2618 - accuracy: 0.9218 - val_loss: 0.4596 - val_accuracy: 0.8682\n",
      "Epoch 12/12\n",
      "8000/8000 [==============================] - 12s 2ms/step - loss: 0.2419 - accuracy: 0.9279 - val_loss: 0.4615 - val_accuracy: 0.8677\n"
     ]
    }
   ],
   "source": [
    "model.fit(encoder_input_data.reshape(10000, 16, 71, 1), decoder_input_data, decoder_target_data)"
   ]
  },
  {
   "cell_type": "code",
   "execution_count": 10,
   "metadata": {},
   "outputs": [
    {
     "data": {
      "text/plain": [
       "array([[6.58987934e-11, 1.75071762e-06, 6.93463062e-06, 5.14246698e-04,\n",
       "        1.15462473e-10, 8.65724992e-10, 2.16341889e-10, 4.49111290e-08,\n",
       "        3.58793828e-10, 1.89049082e-10, 3.64267869e-08, 1.37417082e-08,\n",
       "        1.31206361e-08, 2.08828932e-09, 1.75798182e-10, 1.07099246e-10,\n",
       "        8.89859630e-10, 1.38830350e-10, 2.39671061e-10, 2.08696749e-09,\n",
       "        2.52921706e-09, 3.12607949e-06, 8.81350015e-09, 2.70260170e-09,\n",
       "        1.53443178e-08, 2.20545129e-08, 2.31085675e-08, 1.48013353e-08,\n",
       "        3.16671911e-10, 1.82800919e-09, 1.17921930e-08, 3.24152793e-08,\n",
       "        1.15311771e-09, 9.24025834e-09, 1.32597098e-08, 9.97149208e-09,\n",
       "        1.25579680e-08, 3.01033474e-08, 2.02090789e-08, 7.06497860e-10,\n",
       "        1.76507187e-09, 3.19181481e-08, 4.71276929e-09, 1.04965192e-08,\n",
       "        1.60429858e-09, 3.68821077e-07, 9.18334409e-10, 4.40873436e-08,\n",
       "        1.86244051e-08, 1.27585082e-07, 7.23423454e-09, 4.74862727e-09,\n",
       "        1.39738589e-07, 2.76636769e-07, 1.74764891e-09, 3.40180009e-08,\n",
       "        2.38702338e-08, 1.44978136e-08, 1.42214684e-08, 4.66859298e-08,\n",
       "        5.96833827e-09, 1.10340261e-08, 6.79087151e-08, 8.17817458e-09,\n",
       "        7.95538124e-09, 4.22935500e-08, 7.35114325e-09, 2.85196009e-08,\n",
       "        1.74886261e-09, 3.06830761e-09, 7.08885466e-07, 3.38622286e-09,\n",
       "        1.29316347e-09, 7.22066984e-09, 7.09184544e-10, 4.16193052e-10,\n",
       "        9.09512732e-09, 5.71821715e-07, 6.71234517e-08, 6.09197537e-09,\n",
       "        1.18753840e-09, 2.26949570e-08, 1.66836980e-08, 1.08463030e-10,\n",
       "        1.10461496e-09, 2.31114516e-10, 1.24992127e-07, 4.16448764e-10,\n",
       "        1.01085018e-09, 3.68785180e-09, 6.66304345e-08, 4.86250817e-09,\n",
       "        9.99470651e-01]], dtype=float32)"
      ]
     },
     "execution_count": 10,
     "metadata": {},
     "output_type": "execute_result"
    }
   ],
   "source": [
    "model.predict(encoder_input_data[0:1].reshape(1, 16, 71, 1))"
   ]
  },
  {
   "cell_type": "code",
   "execution_count": null,
   "metadata": {},
   "outputs": [],
   "source": []
  }
 ],
 "metadata": {
  "kernelspec": {
   "display_name": "congyuml",
   "language": "python",
   "name": "congyuml"
  },
  "language_info": {
   "codemirror_mode": {
    "name": "ipython",
    "version": 3
   },
   "file_extension": ".py",
   "mimetype": "text/x-python",
   "name": "python",
   "nbconvert_exporter": "python",
   "pygments_lexer": "ipython3",
   "version": "3.6.8"
  }
 },
 "nbformat": 4,
 "nbformat_minor": 2
}
